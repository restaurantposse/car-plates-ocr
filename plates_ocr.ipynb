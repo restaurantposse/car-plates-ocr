{
  "nbformat": 4,
  "nbformat_minor": 0,
  "metadata": {
    "colab": {
      "provenance": [],
      "authorship_tag": "ABX9TyMETFtGUv79tiTpJJROeWlm",
      "include_colab_link": true
    },
    "kernelspec": {
      "name": "python3",
      "display_name": "Python 3"
    },
    "language_info": {
      "name": "python"
    }
  },
  "cells": [
    {
      "cell_type": "markdown",
      "metadata": {
        "id": "view-in-github",
        "colab_type": "text"
      },
      "source": [
        "<a href=\"https://colab.research.google.com/github/restaurantposse/car-plates-ocr/blob/master/plates_ocr.ipynb\" target=\"_parent\"><img src=\"https://colab.research.google.com/assets/colab-badge.svg\" alt=\"Open In Colab\"/></a>"
      ]
    },
    {
      "cell_type": "code",
      "execution_count": null,
      "metadata": {
        "id": "szR9xBVDS31W"
      },
      "outputs": [],
      "source": [
        "!pip install opencv-python easyocr\n",
        "!git clone https://github.com/restaurantposse/car-plates-ocr.git"
      ]
    },
    {
      "cell_type": "code",
      "source": [
        "import easyocr\n",
        "import cv2\n",
        "import re\n",
        "from google.colab.patches import cv2_imshow"
      ],
      "metadata": {
        "id": "6DcjE3zBTuiD"
      },
      "execution_count": 2,
      "outputs": []
    },
    {
      "cell_type": "code",
      "source": [
        "def read_plates(path):\n",
        "    img = cv2.imread(path)\n",
        "    reader = easyocr.Reader(['en'], gpu=False, verbose=False)\n",
        "    ocr_outputs = reader.readtext(img)\n",
        "    plate = []\n",
        "    for ocr_output in ocr_outputs:\n",
        "      print(ocr_output)\n",
        "      pos, text, score = ocr_output\n",
        "      if score < 0.8:\n",
        "        print(f\"{text} might be wrong. Please, provide another photo\")\n",
        "      plate.append(text)\n",
        "    # In case if not using Google Colab, replace with commented string below\n",
        "    cv2_imshow(img)\n",
        "    # cv2.imshow('Plate preview', img)\n",
        "    cv2.waitKey(0)\n",
        "    return plate\n",
        "\n",
        "def check_if_correct(plate):\n",
        "  whole_plate = ''\n",
        "  for item in plate:\n",
        "  # Ignoring country code, only PL\n",
        "    whole_plate += item.strip('PL')\n",
        "  # print(whole_plate)\n",
        "  # Only accepts: 2-3 A-Z [optional whitespace] 4-5 characters from A-Z and 0-9\n",
        "  if re.match('^[A-Z]{2,3}\\\\s?[A-Z0-9]{4,5}$', string=whole_plate):\n",
        "    return True\n",
        "  else:\n",
        "    return False\n"
      ],
      "metadata": {
        "id": "3OWzlDQvXpFv"
      },
      "execution_count": 8,
      "outputs": []
    },
    {
      "cell_type": "code",
      "source": [
        "data = read_plates('car-plates-ocr/img/img_3.png')\n",
        "print(f'Is the registration plate ({data}) correct? {check_if_correct(data)}')"
      ],
      "metadata": {
        "id": "iUzzba_NZZen"
      },
      "execution_count": null,
      "outputs": []
    }
  ]
}